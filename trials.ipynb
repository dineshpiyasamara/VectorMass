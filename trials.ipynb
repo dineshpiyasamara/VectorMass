{
 "cells": [
  {
   "cell_type": "code",
   "execution_count": 38,
   "metadata": {},
   "outputs": [
    {
     "name": "stdout",
     "output_type": "stream",
     "text": [
      "[3 1]\n",
      "[3 2]\n"
     ]
    }
   ],
   "source": [
    "import numpy as np\n",
    "\n",
    "# Example data\n",
    "data = [[np.array([[0.77875001]]), np.array([[0.81]]), np.array([[0.79581801]]), np.array([[0.93013741]])], [np.array([[0.77875001]]), np.array([[0.79581801]]), np.array([[0.8537212]]), np.array([[0.93013741]])]]\n",
    "\n",
    "for flat_data in data:\n",
    "    values = [arr[0][0] for arr in flat_data]\n",
    "    indices = np.argsort(values)[::-1][:2]  # Indices of maximum two values in descending order\n",
    "\n",
    "    print(indices)"
   ]
  }
 ],
 "metadata": {
  "language_info": {
   "name": "python"
  }
 },
 "nbformat": 4,
 "nbformat_minor": 2
}
